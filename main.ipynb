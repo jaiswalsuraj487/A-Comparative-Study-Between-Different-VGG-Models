{
 "cells": [
  {
   "cell_type": "markdown",
   "id": "fa1cd7b4-a909-4f60-8894-7b75ba08447f",
   "metadata": {
    "jp-MarkdownHeadingCollapsed": true,
    "tags": []
   },
   "source": [
    "#### Imports"
   ]
  },
  {
   "cell_type": "code",
   "execution_count": 1,
   "id": "1845026b-4cf9-4c27-ae92-a34d1eaecf52",
   "metadata": {
    "tags": []
   },
   "outputs": [
    {
     "name": "stderr",
     "output_type": "stream",
     "text": [
      "2023-04-19 14:37:07.771981: I tensorflow/tsl/cuda/cudart_stub.cc:28] Could not find cuda drivers on your machine, GPU will not be used.\n",
      "2023-04-19 14:37:07.807696: I tensorflow/tsl/cuda/cudart_stub.cc:28] Could not find cuda drivers on your machine, GPU will not be used.\n",
      "2023-04-19 14:37:07.808495: I tensorflow/core/platform/cpu_feature_guard.cc:182] This TensorFlow binary is optimized to use available CPU instructions in performance-critical operations.\n",
      "To enable the following instructions: AVX2 AVX512F FMA, in other operations, rebuild TensorFlow with the appropriate compiler flags.\n",
      "2023-04-19 14:37:08.701505: W tensorflow/compiler/tf2tensorrt/utils/py_utils.cc:38] TF-TRT Warning: Could not find TensorRT\n"
     ]
    }
   ],
   "source": [
    "# Importing the required libraries\n",
    "from keras.preprocessing.image import ImageDataGenerator\n",
    "from keras.models import Sequential\n",
    "from keras.layers import Conv2D, MaxPooling2D, Flatten, Dense\n",
    "from keras.callbacks import TensorBoard\n",
    "import time\n",
    "import csv\n",
    "import os\n",
    "import tensorflow as tf\n",
    "from tensorflow import keras\n",
    "from tensorflow.keras import layers\n",
    "import numpy as np\n",
    "import matplotlib.pyplot as plt\n",
    "import shutil"
   ]
  },
  {
   "cell_type": "markdown",
   "id": "0709a565-b687-459f-a6cc-9995296645c3",
   "metadata": {
    "jp-MarkdownHeadingCollapsed": true,
    "tags": []
   },
   "source": [
    "#### Driver Code"
   ]
  },
  {
   "cell_type": "code",
   "execution_count": 2,
   "id": "cc94eb55-22a2-4d40-b2b6-3bfa5144c174",
   "metadata": {
    "tags": []
   },
   "outputs": [
    {
     "name": "stdout",
     "output_type": "stream",
     "text": [
      "Are you sure want to override previous report "
     ]
    },
    {
     "name": "stdin",
     "output_type": "stream",
     "text": [
      " Yes\n"
     ]
    },
    {
     "name": "stdout",
     "output_type": "stream",
     "text": [
      "Overriding previous report\n",
      "Directory saved_models does not exist.\n",
      "Directory log_images does not exist.\n",
      "Directory log_stats does not exist.\n"
     ]
    }
   ],
   "source": [
    "print('Are you sure want to override previous report ', end='')\n",
    "command = input()\n",
    "\n",
    "if command == 'Yes':\n",
    "    print('Overriding previous report')\n",
    "    # Open the results file in write mode and adding the head\n",
    "    with open('results.csv', mode='w', newline='') as results_file:\n",
    "        results_writer = csv.writer(results_file)\n",
    "        results_writer.writerow(['Model Name', 'Training Time', 'Train Loss', 'Train Acc', 'Test Acc', 'Num Params'])\n",
    "    \n",
    "    folders_to_remove = [\"saved_models\", \"log_images\", \"log_stats\"]\n",
    "    for folder in folders_to_remove:\n",
    "        if os.path.exists(folder):\n",
    "            shutil.rmtree(folder)\n",
    "            print(f\"Directory {folder} removed.\")\n",
    "        else:\n",
    "            print(f\"Directory {folder} does not exist.\")"
   ]
  },
  {
   "cell_type": "code",
   "execution_count": 3,
   "id": "3d111b92-c392-4cb8-bff8-92db57b98436",
   "metadata": {
    "tags": []
   },
   "outputs": [],
   "source": [
    "# Define directories for training and testing data\n",
    "train_dir = 'dataset/train/'\n",
    "test_dir = 'dataset/test/'\n",
    "\n",
    "# Define the image size to be used for resizing the images\n",
    "img_size = (128, 128)\n",
    "\n",
    "# Define the input image size (including the number of color channels)\n",
    "input_img_size = (128, 128, 3)\n",
    "\n",
    "# Define the batch size for training the model\n",
    "batch_size = 20\n",
    "\n",
    "# Define the number of epochs for training the model\n",
    "num_epochs = 20"
   ]
  },
  {
   "cell_type": "code",
   "execution_count": 5,
   "id": "6221b7c9-64be-448c-b5bb-0b99a4a2513f",
   "metadata": {
    "tags": []
   },
   "outputs": [
    {
     "name": "stdout",
     "output_type": "stream",
     "text": [
      "Found 160 images belonging to 2 classes.\n",
      "Found 40 images belonging to 2 classes.\n",
      "Found 40 images belonging to 2 classes.\n",
      "Found 40 images belonging to 2 classes.\n"
     ]
    }
   ],
   "source": [
    "# Create an ImageDataGenerator object for data augmentation and normalization of training data\n",
    "train_datagen = ImageDataGenerator(rescale=1./255)\n",
    "\n",
    "# Create a generator for loading training data from the directory\n",
    "train_generator = train_datagen.flow_from_directory(train_dir, \n",
    "                                                    target_size=img_size, # Resizes the images to a target size\n",
    "                                                    batch_size=batch_size, # Defines the batch size\n",
    "                                                    class_mode='binary') # Defines the type of labels to use\n",
    "\n",
    "# Create an ImageDataGenerator object for normalization of testing data\n",
    "test_datagen = ImageDataGenerator(rescale=1./255)\n",
    "\n",
    "# Create a generator for loading testing data from the directory\n",
    "test_generator = test_datagen.flow_from_directory(test_dir, \n",
    "                                                  target_size=img_size, # Resizes the images to a target size\n",
    "                                                  batch_size=batch_size, # Defines the batch size\n",
    "                                                  class_mode='binary') # Defines the type of labels to use\n",
    "\n",
    "# Data generators for prediction\n",
    "prediction_datagen = ImageDataGenerator(rescale=1./255)\n",
    "preprocess_input = tf.keras.applications.vgg16.preprocess_input\n",
    "prediction_datagen_vgg = keras.preprocessing.image.ImageDataGenerator(preprocessing_function=preprocess_input)\n",
    "prediction_generator = test_datagen.flow_from_directory(test_dir, target_size=img_size, batch_size=1, class_mode='binary', shuffle=False) \n",
    "prediction_generator_vgg = prediction_datagen_vgg.flow_from_directory(test_dir, target_size=img_size, batch_size=1, class_mode='binary', shuffle=False) "
   ]
  },
  {
   "cell_type": "code",
   "execution_count": 6,
   "id": "b8a624c0-a49b-4fe6-8c09-98a37d457e11",
   "metadata": {
    "tags": []
   },
   "outputs": [],
   "source": [
    "# Function for plotting the predictions and writing to TensorBoard\n",
    "def plot_predictions(title, model, log_dir, test_generator):\n",
    "    # Create a summary writer for TensorBoard\n",
    "    writer = tf.summary.create_file_writer(log_dir)\n",
    "\n",
    "    # Get the predicted classes for the test set\n",
    "    y_pred = model.predict(test_generator)\n",
    "    y_pred_classes = tf.round(y_pred).numpy().astype(int).flatten()\n",
    "\n",
    "    # Get the true classes for the test set\n",
    "    y_true = test_generator.classes.astype(int)\n",
    "\n",
    "    # Get the class labels for the dataset\n",
    "    class_labels = list(test_generator.class_indices.keys())\n",
    "\n",
    "    # Get all the images and their corresponding labels from the test set generator\n",
    "    images = []\n",
    "    labels = []\n",
    "    for i in range(len(test_generator)):\n",
    "        batch = test_generator[i]\n",
    "        images.extend(batch[0])\n",
    "        labels.extend(batch[1].astype(int))\n",
    "\n",
    "    for i in range(len(test_generator)):\n",
    "        # Write the image to TensorBoard\n",
    "        with tf.summary.create_file_writer(log_dir).as_default():\n",
    "            tf.summary.image(\"{}   Image {}   Predicted: {}   True: {}\".format(title, i+1, class_labels[y_pred_classes[i]], class_labels[labels[i]]), np.expand_dims(images[i], 0), step=0)"
   ]
  },
  {
   "cell_type": "markdown",
   "id": "fdf573ef-379e-44cf-a5d0-e7ee57be755e",
   "metadata": {
    "jp-MarkdownHeadingCollapsed": true,
    "tags": []
   },
   "source": [
    "#### VGG 1 Block"
   ]
  },
  {
   "cell_type": "code",
   "execution_count": 7,
   "id": "af4cb883-fb47-4ebc-be73-9b4b6e49c304",
   "metadata": {
    "tags": []
   },
   "outputs": [
    {
     "name": "stdout",
     "output_type": "stream",
     "text": [
      "Model: \"vgg_block_1\"\n",
      "_________________________________________________________________\n",
      " Layer (type)                Output Shape              Param #   \n",
      "=================================================================\n",
      " conv2d (Conv2D)             (None, 128, 128, 64)      1792      \n",
      "                                                                 \n",
      " max_pooling2d (MaxPooling2D  (None, 64, 64, 64)       0         \n",
      " )                                                               \n",
      "                                                                 \n",
      " flatten (Flatten)           (None, 262144)            0         \n",
      "                                                                 \n",
      " dense (Dense)               (None, 128)               33554560  \n",
      "                                                                 \n",
      " dense_1 (Dense)             (None, 1)                 129       \n",
      "                                                                 \n",
      "=================================================================\n",
      "Total params: 33,556,481\n",
      "Trainable params: 33,556,481\n",
      "Non-trainable params: 0\n",
      "_________________________________________________________________\n"
     ]
    },
    {
     "name": "stderr",
     "output_type": "stream",
     "text": [
      "2023-04-19 14:38:27.877910: W tensorflow/core/common_runtime/gpu/gpu_device.cc:1956] Cannot dlopen some GPU libraries. Please make sure the missing libraries mentioned above are installed properly if you would like to use GPU. Follow the guide at https://www.tensorflow.org/install/gpu for how to download and setup the required libraries for your platform.\n",
      "Skipping registering GPU devices...\n"
     ]
    }
   ],
   "source": [
    "# Define a function that creates a VGG block with one convolutional layer\n",
    "def vgg_1_block():\n",
    "    # Create a Sequential model object with a name\n",
    "    model = Sequential(name = 'vgg_block_1')\n",
    "    \n",
    "    # Add a convolutional layer with 64 filters, a 3x3 kernel size, 'relu' activation, and 'same' padding\n",
    "    model.add(Conv2D(64, (3, 3), activation='relu', padding='same', input_shape=input_img_size))\n",
    "    \n",
    "    # Add a max pooling layer with a 2x2 pool size\n",
    "    model.add(MaxPooling2D((2, 2)))\n",
    "    \n",
    "    # Add a flatten layer to convert the 2D feature maps to a 1D feature vector\n",
    "    model.add(Flatten())\n",
    "    \n",
    "    # Add a fully connected layer with 128 units and 'relu' activation\n",
    "    model.add(Dense(128, activation='relu'))\n",
    "    \n",
    "    # Add an output layer with 1 unit and 'sigmoid' activation (for binary classification)\n",
    "    model.add(Dense(1, activation='sigmoid'))\n",
    "    \n",
    "    # Return the model\n",
    "    return model\n",
    "\n",
    "# Create a VGG block with one convolutional layer\n",
    "model1 = vgg_1_block()\n",
    "\n",
    "# Print a summary of the model's architecture\n",
    "model1.summary()\n",
    "\n",
    "# Define a log directory for TensorBoard\n",
    "log_dir = 'log_stats/vgg_1_block'\n",
    "\n",
    "# Define the TensorBoard callback with update_freq='batch'\n",
    "tensorboard_callback = tf.keras.callbacks.TensorBoard(log_dir=log_dir, update_freq='batch')"
   ]
  },
  {
   "cell_type": "code",
   "execution_count": 8,
   "id": "84e3c908-0ea4-4282-a851-ec9726c3cf87",
   "metadata": {
    "tags": []
   },
   "outputs": [
    {
     "name": "stdout",
     "output_type": "stream",
     "text": [
      "Epoch 1/20\n"
     ]
    },
    {
     "name": "stderr",
     "output_type": "stream",
     "text": [
      "2023-04-19 14:38:31.364769: I tensorflow/core/common_runtime/executor.cc:1197] [/device:CPU:0] (DEBUG INFO) Executor start aborting (this does not indicate an error and you can ignore this message): INVALID_ARGUMENT: You must feed a value for placeholder tensor 'Placeholder/_0' with dtype int32\n",
      "\t [[{{node Placeholder/_0}}]]\n"
     ]
    },
    {
     "name": "stdout",
     "output_type": "stream",
     "text": [
      "8/8 [==============================] - 4s 443ms/step - loss: 16.0090 - accuracy: 0.4938\n",
      "Epoch 2/20\n",
      "8/8 [==============================] - 4s 441ms/step - loss: 1.3641 - accuracy: 0.5063\n",
      "Epoch 3/20\n",
      "8/8 [==============================] - 4s 440ms/step - loss: 0.8025 - accuracy: 0.6000\n",
      "Epoch 4/20\n",
      "8/8 [==============================] - 4s 439ms/step - loss: 0.5900 - accuracy: 0.6875\n",
      "Epoch 5/20\n",
      "8/8 [==============================] - 4s 439ms/step - loss: 0.4382 - accuracy: 0.7750\n",
      "Epoch 6/20\n",
      "8/8 [==============================] - 4s 441ms/step - loss: 0.3841 - accuracy: 0.8687\n",
      "Epoch 7/20\n",
      "8/8 [==============================] - 4s 440ms/step - loss: 0.2853 - accuracy: 0.8875\n",
      "Epoch 8/20\n",
      "8/8 [==============================] - 4s 440ms/step - loss: 0.2322 - accuracy: 0.9438\n",
      "Epoch 9/20\n",
      "8/8 [==============================] - 4s 442ms/step - loss: 0.1883 - accuracy: 0.9563\n",
      "Epoch 10/20\n",
      "8/8 [==============================] - 4s 440ms/step - loss: 0.1287 - accuracy: 0.9812\n",
      "Epoch 11/20\n",
      "8/8 [==============================] - 4s 440ms/step - loss: 0.1186 - accuracy: 0.9875\n",
      "Epoch 12/20\n",
      "8/8 [==============================] - 4s 442ms/step - loss: 0.0991 - accuracy: 0.9625\n",
      "Epoch 13/20\n",
      "8/8 [==============================] - 4s 440ms/step - loss: 0.0737 - accuracy: 0.9812\n",
      "Epoch 14/20\n",
      "8/8 [==============================] - 4s 442ms/step - loss: 0.0589 - accuracy: 1.0000\n",
      "Epoch 15/20\n",
      "8/8 [==============================] - 4s 448ms/step - loss: 0.0466 - accuracy: 1.0000\n",
      "Epoch 16/20\n",
      "8/8 [==============================] - 4s 443ms/step - loss: 0.0412 - accuracy: 0.9937\n",
      "Epoch 17/20\n",
      "8/8 [==============================] - 4s 441ms/step - loss: 0.0302 - accuracy: 1.0000\n",
      "Epoch 18/20\n",
      "8/8 [==============================] - 4s 442ms/step - loss: 0.0279 - accuracy: 1.0000\n",
      "Epoch 19/20\n",
      "8/8 [==============================] - 4s 443ms/step - loss: 0.0257 - accuracy: 1.0000\n",
      "Epoch 20/20\n",
      "8/8 [==============================] - 4s 443ms/step - loss: 0.0187 - accuracy: 1.0000\n",
      "1/8 [==>...........................] - ETA: 1s - loss: 0.0182 - accuracy: 1.0000"
     ]
    },
    {
     "name": "stderr",
     "output_type": "stream",
     "text": [
      "2023-04-19 14:39:43.633980: I tensorflow/core/common_runtime/executor.cc:1197] [/device:CPU:0] (DEBUG INFO) Executor start aborting (this does not indicate an error and you can ignore this message): INVALID_ARGUMENT: You must feed a value for placeholder tensor 'Placeholder/_0' with dtype int32\n",
      "\t [[{{node Placeholder/_0}}]]\n"
     ]
    },
    {
     "name": "stdout",
     "output_type": "stream",
     "text": [
      "8/8 [==============================] - 1s 54ms/step - loss: 0.0206 - accuracy: 1.0000\n",
      "2/2 [==============================] - 0s 58ms/step - loss: 0.5984 - accuracy: 0.8250\n"
     ]
    },
    {
     "name": "stderr",
     "output_type": "stream",
     "text": [
      "2023-04-19 14:39:44.234190: I tensorflow/core/common_runtime/executor.cc:1197] [/device:CPU:0] (DEBUG INFO) Executor start aborting (this does not indicate an error and you can ignore this message): INVALID_ARGUMENT: You must feed a value for placeholder tensor 'Placeholder/_0' with dtype int32\n",
      "\t [[{{node Placeholder/_0}}]]\n"
     ]
    }
   ],
   "source": [
    "# Compile the model with 'adam' optimizer, 'binary_crossentropy' loss function, and 'accuracy' metric\n",
    "model1.compile(optimizer='adam', loss='binary_crossentropy', metrics=['accuracy'])\n",
    "\n",
    "# Start timing the training\n",
    "start_time = time.time()\n",
    "\n",
    "# Train the model using the training generator for a specified number of epochs, and save the history\n",
    "history = model1.fit(train_generator, steps_per_epoch=len(train_generator), epochs=num_epochs, callbacks=[tensorboard_callback])\n",
    "\n",
    "# Stop timing the training\n",
    "end_time = time.time()\n",
    "\n",
    "# Calculate the training time by subtracting the start time from the end time\n",
    "training_time = end_time - start_time\n",
    "\n",
    "# Evaluate the model on the training set and get the training loss and accuracy\n",
    "train_loss, train_acc = model1.evaluate(train_generator)\n",
    "\n",
    "# Evaluate the model on the test set and get the test loss and accuracy\n",
    "test_loss, test_acc = model1.evaluate(test_generator)\n",
    "\n",
    "# Count the number of parameters in the model\n",
    "num_params = model1.count_params()\n",
    "\n",
    "# Open the results file in append mode and writing the results\n",
    "with open('results.csv', mode='a', newline='') as results_file:\n",
    "    results_writer = csv.writer(results_file)\n",
    "    results_writer.writerow(['VGG 1 Block', training_time, train_loss, train_acc, test_acc, num_params])\n",
    "    \n",
    "model1.save('saved_models/vgg_1_block.h5')"
   ]
  },
  {
   "cell_type": "code",
   "execution_count": 9,
   "id": "941c0cff-3387-4f85-a068-20c7b9bc081e",
   "metadata": {
    "tags": []
   },
   "outputs": [
    {
     "name": "stdout",
     "output_type": "stream",
     "text": [
      " 4/40 [==>...........................] - ETA: 0s"
     ]
    },
    {
     "name": "stderr",
     "output_type": "stream",
     "text": [
      "2023-04-19 14:39:44.990430: I tensorflow/core/common_runtime/executor.cc:1197] [/device:CPU:0] (DEBUG INFO) Executor start aborting (this does not indicate an error and you can ignore this message): INVALID_ARGUMENT: You must feed a value for placeholder tensor 'Placeholder/_0' with dtype int32\n",
      "\t [[{{node Placeholder/_0}}]]\n"
     ]
    },
    {
     "name": "stdout",
     "output_type": "stream",
     "text": [
      "40/40 [==============================] - 1s 20ms/step\n"
     ]
    }
   ],
   "source": [
    "plot_predictions('Vgg1', model1, 'log_images/vgg_1_block', prediction_generator)"
   ]
  },
  {
   "cell_type": "markdown",
   "id": "cc80130f-3f5d-4c36-8cff-00e54faa6b61",
   "metadata": {
    "jp-MarkdownHeadingCollapsed": true,
    "tags": []
   },
   "source": [
    "#### VGG 3 Block"
   ]
  },
  {
   "cell_type": "code",
   "execution_count": 10,
   "id": "13829103-5969-4d36-9d05-74ac127f5751",
   "metadata": {
    "tags": []
   },
   "outputs": [
    {
     "name": "stdout",
     "output_type": "stream",
     "text": [
      "Model: \"vgg_block_3\"\n",
      "_________________________________________________________________\n",
      " Layer (type)                Output Shape              Param #   \n",
      "=================================================================\n",
      " conv2d_1 (Conv2D)           (None, 128, 128, 64)      1792      \n",
      "                                                                 \n",
      " max_pooling2d_1 (MaxPooling  (None, 64, 64, 64)       0         \n",
      " 2D)                                                             \n",
      "                                                                 \n",
      " conv2d_2 (Conv2D)           (None, 64, 64, 128)       73856     \n",
      "                                                                 \n",
      " max_pooling2d_2 (MaxPooling  (None, 32, 32, 128)      0         \n",
      " 2D)                                                             \n",
      "                                                                 \n",
      " conv2d_3 (Conv2D)           (None, 32, 32, 256)       295168    \n",
      "                                                                 \n",
      " max_pooling2d_3 (MaxPooling  (None, 16, 16, 256)      0         \n",
      " 2D)                                                             \n",
      "                                                                 \n",
      " flatten_1 (Flatten)         (None, 65536)             0         \n",
      "                                                                 \n",
      " dense_2 (Dense)             (None, 128)               8388736   \n",
      "                                                                 \n",
      " dense_3 (Dense)             (None, 1)                 129       \n",
      "                                                                 \n",
      "=================================================================\n",
      "Total params: 8,759,681\n",
      "Trainable params: 8,759,681\n",
      "Non-trainable params: 0\n",
      "_________________________________________________________________\n"
     ]
    }
   ],
   "source": [
    "# Define a function to create a VGG block with three convolutional layers\n",
    "def vgg_3_block():\n",
    "    # Create a Sequential model object with the name 'vgg_block_3'\n",
    "    model = Sequential(name='vgg_block_3')\n",
    "    \n",
    "    # Add a convolutional layer with 64 filters, a kernel size of 3x3, 'same' padding, and ReLU activation,\n",
    "    # and specify the input shape as the desired image size and 3 color channels\n",
    "    model.add(Conv2D(64, (3, 3), activation='relu', padding='same', input_shape=input_img_size))\n",
    "    \n",
    "    # Add a max pooling layer with a pool size of 2x2\n",
    "    model.add(MaxPooling2D((2, 2)))\n",
    "    \n",
    "    # Add another convolutional layer with 128 filters and 'same' padding\n",
    "    model.add(Conv2D(128, (3, 3), activation='relu', padding='same'))\n",
    "    \n",
    "    # Add another max pooling layer\n",
    "    model.add(MaxPooling2D((2, 2)))\n",
    "    \n",
    "    # Add a third convolutional layer with 256 filters and 'same' padding\n",
    "    model.add(Conv2D(256, (3, 3), activation='relu', padding='same'))\n",
    "    \n",
    "    # Add a third max pooling layer\n",
    "    model.add(MaxPooling2D((2, 2)))\n",
    "    \n",
    "    # Flatten the output of the convolutional layers\n",
    "    model.add(Flatten())\n",
    "    \n",
    "    # Add a fully connected layer with 128 units and ReLU activation\n",
    "    model.add(Dense(128, activation='relu'))\n",
    "    \n",
    "    # Add a final output layer with a single unit and sigmoid activation (for binary classification)\n",
    "    model.add(Dense(1, activation='sigmoid'))\n",
    "    \n",
    "    # Return the completed model object\n",
    "    return model\n",
    "\n",
    "# Create an instance of the VGG block using the vgg_3_block function\n",
    "model2 = vgg_3_block()\n",
    "\n",
    "# Print a summary of the model's architecture\n",
    "model2.summary()\n",
    "\n",
    "# Define a log directory for TensorBoard\n",
    "log_dir = 'log_stats/vgg_3_block'\n",
    "\n",
    "# Define the TensorBoard callback with update_freq='batch'\n",
    "tensorboard_callback = tf.keras.callbacks.TensorBoard(log_dir=log_dir, update_freq='batch')"
   ]
  },
  {
   "cell_type": "code",
   "execution_count": 11,
   "id": "7848f4e1-7975-40ca-a4ef-dd0a6f4e5916",
   "metadata": {
    "tags": []
   },
   "outputs": [
    {
     "name": "stdout",
     "output_type": "stream",
     "text": [
      "Epoch 1/20\n"
     ]
    },
    {
     "name": "stderr",
     "output_type": "stream",
     "text": [
      "2023-04-19 14:39:46.379523: I tensorflow/core/common_runtime/executor.cc:1197] [/device:CPU:0] (DEBUG INFO) Executor start aborting (this does not indicate an error and you can ignore this message): INVALID_ARGUMENT: You must feed a value for placeholder tensor 'Placeholder/_0' with dtype int32\n",
      "\t [[{{node Placeholder/_0}}]]\n"
     ]
    },
    {
     "name": "stdout",
     "output_type": "stream",
     "text": [
      "8/8 [==============================] - 4s 452ms/step - loss: 1.2802 - accuracy: 0.5250\n",
      "Epoch 2/20\n",
      "8/8 [==============================] - 4s 445ms/step - loss: 0.6984 - accuracy: 0.5437\n",
      "Epoch 3/20\n",
      "8/8 [==============================] - 4s 446ms/step - loss: 0.7064 - accuracy: 0.5000\n",
      "Epoch 4/20\n",
      "8/8 [==============================] - 4s 446ms/step - loss: 0.6933 - accuracy: 0.6125\n",
      "Epoch 5/20\n",
      "8/8 [==============================] - 4s 452ms/step - loss: 0.6818 - accuracy: 0.5437\n",
      "Epoch 6/20\n",
      "8/8 [==============================] - 4s 452ms/step - loss: 0.6226 - accuracy: 0.6562\n",
      "Epoch 7/20\n",
      "8/8 [==============================] - 4s 449ms/step - loss: 0.5584 - accuracy: 0.7250\n",
      "Epoch 8/20\n",
      "8/8 [==============================] - 4s 446ms/step - loss: 0.4817 - accuracy: 0.7625\n",
      "Epoch 9/20\n",
      "8/8 [==============================] - 4s 446ms/step - loss: 0.4709 - accuracy: 0.8188\n",
      "Epoch 10/20\n",
      "8/8 [==============================] - 4s 451ms/step - loss: 0.3938 - accuracy: 0.8000\n",
      "Epoch 11/20\n",
      "8/8 [==============================] - 4s 445ms/step - loss: 0.3187 - accuracy: 0.8438\n",
      "Epoch 12/20\n",
      "8/8 [==============================] - 4s 448ms/step - loss: 0.2332 - accuracy: 0.9062\n",
      "Epoch 13/20\n",
      "8/8 [==============================] - 4s 449ms/step - loss: 0.1594 - accuracy: 0.9438\n",
      "Epoch 14/20\n",
      "8/8 [==============================] - 4s 456ms/step - loss: 0.0972 - accuracy: 0.9688\n",
      "Epoch 15/20\n",
      "8/8 [==============================] - 4s 469ms/step - loss: 0.0486 - accuracy: 0.9812\n",
      "Epoch 16/20\n",
      "8/8 [==============================] - 4s 445ms/step - loss: 0.0302 - accuracy: 1.0000\n",
      "Epoch 17/20\n",
      "8/8 [==============================] - 4s 453ms/step - loss: 0.0142 - accuracy: 1.0000\n",
      "Epoch 18/20\n",
      "8/8 [==============================] - 4s 448ms/step - loss: 0.0089 - accuracy: 1.0000\n",
      "Epoch 19/20\n",
      "8/8 [==============================] - 4s 449ms/step - loss: 0.0033 - accuracy: 1.0000\n",
      "Epoch 20/20\n",
      "8/8 [==============================] - 4s 446ms/step - loss: 0.0023 - accuracy: 1.0000\n"
     ]
    },
    {
     "name": "stderr",
     "output_type": "stream",
     "text": [
      "2023-04-19 14:41:00.131167: I tensorflow/core/common_runtime/executor.cc:1197] [/device:CPU:0] (DEBUG INFO) Executor start aborting (this does not indicate an error and you can ignore this message): INVALID_ARGUMENT: You must feed a value for placeholder tensor 'Placeholder/_0' with dtype int32\n",
      "\t [[{{node Placeholder/_0}}]]\n"
     ]
    },
    {
     "name": "stdout",
     "output_type": "stream",
     "text": [
      "8/8 [==============================] - 1s 78ms/step - loss: 0.0012 - accuracy: 1.0000\n",
      "1/2 [==============>...............] - ETA: 0s - loss: 0.9936 - accuracy: 0.8500"
     ]
    },
    {
     "name": "stderr",
     "output_type": "stream",
     "text": [
      "2023-04-19 14:41:00.947230: I tensorflow/core/common_runtime/executor.cc:1197] [/device:CPU:0] (DEBUG INFO) Executor start aborting (this does not indicate an error and you can ignore this message): INVALID_ARGUMENT: You must feed a value for placeholder tensor 'Placeholder/_0' with dtype int32\n",
      "\t [[{{node Placeholder/_0}}]]\n"
     ]
    },
    {
     "name": "stdout",
     "output_type": "stream",
     "text": [
      "2/2 [==============================] - 0s 79ms/step - loss: 1.0520 - accuracy: 0.8250\n"
     ]
    }
   ],
   "source": [
    "# Compile the model with 'adam' optimizer, 'binary_crossentropy' loss function, and 'accuracy' metric\n",
    "model2.compile(optimizer='adam', loss='binary_crossentropy', metrics=['accuracy'])\n",
    "\n",
    "# Start timing the training\n",
    "start_time = time.time()\n",
    "\n",
    "# Train the model using the training generator for a specified number of epochs, and save the history\n",
    "history = model2.fit(train_generator, steps_per_epoch=len(train_generator), epochs=num_epochs, callbacks=[tensorboard_callback])\n",
    "\n",
    "# Stop timing the training\n",
    "end_time = time.time()\n",
    "\n",
    "# Calculate the training time by subtracting the start time from the end time\n",
    "training_time = end_time - start_time\n",
    "\n",
    "# Evaluate the model on the training set and get the training loss and accuracy\n",
    "train_loss, train_acc = model2.evaluate(train_generator)\n",
    "\n",
    "# Evaluate the model on the test set and get the test loss and accuracy\n",
    "test_loss, test_acc = model2.evaluate(test_generator)\n",
    "\n",
    "# Count the number of parameters in the model\n",
    "num_params = model2.count_params()\n",
    "\n",
    "# Open the results file in append mode and writing the results\n",
    "with open('results.csv', mode='a', newline='') as results_file:\n",
    "    results_writer = csv.writer(results_file)\n",
    "    results_writer.writerow(['VGG 3 Block', training_time, train_loss, train_acc, test_acc, num_params])\n",
    "    \n",
    "model2.save('saved_models/vgg_3_block.h5')"
   ]
  },
  {
   "cell_type": "code",
   "execution_count": 12,
   "id": "52fbc026-0c65-4d80-bd4e-7b10c16a247e",
   "metadata": {
    "tags": []
   },
   "outputs": [
    {
     "name": "stdout",
     "output_type": "stream",
     "text": [
      " 9/40 [=====>........................] - ETA: 0s"
     ]
    },
    {
     "name": "stderr",
     "output_type": "stream",
     "text": [
      "2023-04-19 14:41:01.335855: I tensorflow/core/common_runtime/executor.cc:1197] [/device:CPU:0] (DEBUG INFO) Executor start aborting (this does not indicate an error and you can ignore this message): INVALID_ARGUMENT: You must feed a value for placeholder tensor 'Placeholder/_0' with dtype int32\n",
      "\t [[{{node Placeholder/_0}}]]\n"
     ]
    },
    {
     "name": "stdout",
     "output_type": "stream",
     "text": [
      "40/40 [==============================] - 1s 14ms/step\n"
     ]
    }
   ],
   "source": [
    "plot_predictions('Vgg3', model2, 'log_images/vgg_3_block', prediction_generator)"
   ]
  },
  {
   "cell_type": "markdown",
   "id": "907a7c89-97b7-4275-bfc6-13650d83daff",
   "metadata": {
    "jp-MarkdownHeadingCollapsed": true,
    "tags": []
   },
   "source": [
    "#### VGG 3 Block with Data Argumentation"
   ]
  },
  {
   "cell_type": "code",
   "execution_count": 13,
   "id": "61317a15-0950-4a1f-8fa2-2f4892ca1f22",
   "metadata": {
    "tags": []
   },
   "outputs": [
    {
     "name": "stdout",
     "output_type": "stream",
     "text": [
      "Found 160 images belonging to 2 classes.\n",
      "Found 40 images belonging to 2 classes.\n"
     ]
    }
   ],
   "source": [
    "# Define an ImageDataGenerator for data augmentation during training\n",
    "train_datagen = ImageDataGenerator(\n",
    "    rescale=1./255,                   # rescale pixel values to [0,1]\n",
    "    rotation_range=45,                # random rotation between 0-45 degrees\n",
    "    # width_shift_range=0.2,            # random shift horizontally up to 20% of the image width\n",
    "    # height_shift_range=0.2,           # random shift vertically up to 20% of the image height\n",
    "    shear_range=0.2,                  # random shear up to 20%\n",
    "    zoom_range=0.2,                   # random zoom up to 20%\n",
    "    # horizontal_flip=True,             # randomly flip images horizontally \n",
    "    fill_mode='nearest'               # fill any missing pixels with the nearest available pixel\n",
    ")\n",
    "\n",
    "# Create a flow of augmented training data from the training directory\n",
    "train_generator = train_datagen.flow_from_directory(\n",
    "    train_dir,                        # path to training data directory\n",
    "    target_size=img_size,             # size of input images\n",
    "    batch_size=batch_size,            # number of images per batch\n",
    "    class_mode='binary'               # type of classification problem (binary or categorical)\n",
    ")\n",
    "\n",
    "# Define an ImageDataGenerator for rescaling pixel values in the test set\n",
    "test_datagen = ImageDataGenerator(rescale=1./255)\n",
    "\n",
    "# Create a flow of test data from the test directory\n",
    "test_generator = test_datagen.flow_from_directory(\n",
    "    test_dir,                         # path to test data directory\n",
    "    target_size=img_size,             # size of input images\n",
    "    batch_size=batch_size,            # number of images per batch\n",
    "    class_mode='binary'               # type of classification problem (binary or categorical)\n",
    ")"
   ]
  },
  {
   "cell_type": "code",
   "execution_count": 14,
   "id": "21d3da32-3d90-4977-ac98-404d85b1f0f5",
   "metadata": {
    "tags": []
   },
   "outputs": [
    {
     "name": "stdout",
     "output_type": "stream",
     "text": [
      "Model: \"vgg_block_3\"\n",
      "_________________________________________________________________\n",
      " Layer (type)                Output Shape              Param #   \n",
      "=================================================================\n",
      " conv2d_4 (Conv2D)           (None, 128, 128, 64)      1792      \n",
      "                                                                 \n",
      " max_pooling2d_4 (MaxPooling  (None, 64, 64, 64)       0         \n",
      " 2D)                                                             \n",
      "                                                                 \n",
      " conv2d_5 (Conv2D)           (None, 64, 64, 128)       73856     \n",
      "                                                                 \n",
      " max_pooling2d_5 (MaxPooling  (None, 32, 32, 128)      0         \n",
      " 2D)                                                             \n",
      "                                                                 \n",
      " conv2d_6 (Conv2D)           (None, 32, 32, 256)       295168    \n",
      "                                                                 \n",
      " max_pooling2d_6 (MaxPooling  (None, 16, 16, 256)      0         \n",
      " 2D)                                                             \n",
      "                                                                 \n",
      " flatten_2 (Flatten)         (None, 65536)             0         \n",
      "                                                                 \n",
      " dense_4 (Dense)             (None, 128)               8388736   \n",
      "                                                                 \n",
      " dense_5 (Dense)             (None, 1)                 129       \n",
      "                                                                 \n",
      "=================================================================\n",
      "Total params: 8,759,681\n",
      "Trainable params: 8,759,681\n",
      "Non-trainable params: 0\n",
      "_________________________________________________________________\n"
     ]
    }
   ],
   "source": [
    "# Create an instance of the VGG block using the vgg_3_block function\n",
    "model3 = vgg_3_block()\n",
    "\n",
    "# Print a summary of the model's architecture\n",
    "model3.summary()\n",
    "\n",
    "# Define a log directory for TensorBoard\n",
    "log_dir = 'log_stats/vgg_3_block_with_args'\n",
    "\n",
    "# Define the TensorBoard callback with update_freq='batch'\n",
    "tensorboard_callback = tf.keras.callbacks.TensorBoard(log_dir=log_dir, update_freq='batch')"
   ]
  },
  {
   "cell_type": "code",
   "execution_count": 15,
   "id": "2917f75a-18a5-477d-b9fa-ae77768361dd",
   "metadata": {
    "tags": []
   },
   "outputs": [
    {
     "name": "stdout",
     "output_type": "stream",
     "text": [
      "Epoch 1/20\n"
     ]
    },
    {
     "name": "stderr",
     "output_type": "stream",
     "text": [
      "2023-04-19 14:41:02.555902: I tensorflow/core/common_runtime/executor.cc:1197] [/device:CPU:0] (DEBUG INFO) Executor start aborting (this does not indicate an error and you can ignore this message): INVALID_ARGUMENT: You must feed a value for placeholder tensor 'Placeholder/_0' with dtype int32\n",
      "\t [[{{node Placeholder/_0}}]]\n"
     ]
    },
    {
     "name": "stdout",
     "output_type": "stream",
     "text": [
      "8/8 [==============================] - 4s 463ms/step - loss: 1.2631 - accuracy: 0.4812\n",
      "Epoch 2/20\n",
      "8/8 [==============================] - 4s 456ms/step - loss: 0.6834 - accuracy: 0.5750\n",
      "Epoch 3/20\n",
      "8/8 [==============================] - 4s 453ms/step - loss: 0.6574 - accuracy: 0.5813\n",
      "Epoch 4/20\n",
      "8/8 [==============================] - 4s 453ms/step - loss: 0.6267 - accuracy: 0.7375\n",
      "Epoch 5/20\n",
      "8/8 [==============================] - 4s 452ms/step - loss: 0.5854 - accuracy: 0.7125\n",
      "Epoch 6/20\n",
      "8/8 [==============================] - 4s 449ms/step - loss: 0.5650 - accuracy: 0.7500\n",
      "Epoch 7/20\n",
      "8/8 [==============================] - 4s 450ms/step - loss: 0.5137 - accuracy: 0.7875\n",
      "Epoch 8/20\n",
      "8/8 [==============================] - 4s 452ms/step - loss: 0.4996 - accuracy: 0.7812\n",
      "Epoch 9/20\n",
      "8/8 [==============================] - 4s 452ms/step - loss: 0.4974 - accuracy: 0.7688\n",
      "Epoch 10/20\n",
      "8/8 [==============================] - 4s 449ms/step - loss: 0.4721 - accuracy: 0.7688\n",
      "Epoch 11/20\n",
      "8/8 [==============================] - 4s 451ms/step - loss: 0.4361 - accuracy: 0.8250\n",
      "Epoch 12/20\n",
      "8/8 [==============================] - 4s 455ms/step - loss: 0.4523 - accuracy: 0.8125\n",
      "Epoch 13/20\n",
      "8/8 [==============================] - 4s 448ms/step - loss: 0.4220 - accuracy: 0.8125\n",
      "Epoch 14/20\n",
      "8/8 [==============================] - 4s 447ms/step - loss: 0.4201 - accuracy: 0.8000\n",
      "Epoch 15/20\n",
      "8/8 [==============================] - 4s 450ms/step - loss: 0.4078 - accuracy: 0.8125\n",
      "Epoch 16/20\n",
      "8/8 [==============================] - 4s 452ms/step - loss: 0.4350 - accuracy: 0.8375\n",
      "Epoch 17/20\n",
      "8/8 [==============================] - 4s 453ms/step - loss: 0.4067 - accuracy: 0.8125\n",
      "Epoch 18/20\n",
      "8/8 [==============================] - 4s 453ms/step - loss: 0.3679 - accuracy: 0.8813\n",
      "Epoch 19/20\n",
      "8/8 [==============================] - 4s 452ms/step - loss: 0.3514 - accuracy: 0.8313\n",
      "Epoch 20/20\n",
      "8/8 [==============================] - 4s 448ms/step - loss: 0.3851 - accuracy: 0.8188\n"
     ]
    },
    {
     "name": "stderr",
     "output_type": "stream",
     "text": [
      "2023-04-19 14:42:17.701998: I tensorflow/core/common_runtime/executor.cc:1197] [/device:CPU:0] (DEBUG INFO) Executor start aborting (this does not indicate an error and you can ignore this message): INVALID_ARGUMENT: You must feed a value for placeholder tensor 'Placeholder/_0' with dtype int32\n",
      "\t [[{{node Placeholder/_0}}]]\n"
     ]
    },
    {
     "name": "stdout",
     "output_type": "stream",
     "text": [
      "8/8 [==============================] - 1s 109ms/step - loss: 0.3559 - accuracy: 0.8438\n",
      "1/2 [==============>...............] - ETA: 0s - loss: 0.5282 - accuracy: 0.8000"
     ]
    },
    {
     "name": "stderr",
     "output_type": "stream",
     "text": [
      "2023-04-19 14:42:18.761244: I tensorflow/core/common_runtime/executor.cc:1197] [/device:CPU:0] (DEBUG INFO) Executor start aborting (this does not indicate an error and you can ignore this message): INVALID_ARGUMENT: You must feed a value for placeholder tensor 'Placeholder/_0' with dtype int32\n",
      "\t [[{{node Placeholder/_0}}]]\n"
     ]
    },
    {
     "name": "stdout",
     "output_type": "stream",
     "text": [
      "2/2 [==============================] - 0s 80ms/step - loss: 0.5902 - accuracy: 0.7500\n"
     ]
    }
   ],
   "source": [
    "# Compile the model with 'adam' optimizer, 'binary_crossentropy' loss function, and 'accuracy' metric\n",
    "model3.compile(optimizer='adam', loss='binary_crossentropy', metrics=['accuracy'])\n",
    "\n",
    "# Start timing the training\n",
    "start_time = time.time()\n",
    "\n",
    "# Train the model using the training generator for a specified number of epochs, and save the history\n",
    "history = model3.fit(train_generator, steps_per_epoch=len(train_generator), epochs=num_epochs, callbacks=[tensorboard_callback])\n",
    "\n",
    "# Stop timing the training\n",
    "end_time = time.time()\n",
    "\n",
    "# Calculate the training time by subtracting the start time from the end time\n",
    "training_time = end_time - start_time\n",
    "\n",
    "# Evaluate the model on the training set and get the training loss and accuracy\n",
    "train_loss, train_acc = model3.evaluate(train_generator)\n",
    "\n",
    "# Evaluate the model on the test set and get the test loss and accuracy\n",
    "test_loss, test_acc = model3.evaluate(test_generator)\n",
    "\n",
    "# Count the number of parameters in the model\n",
    "num_params = model3.count_params()\n",
    "\n",
    "# Open the results file in append mode and writing the results\n",
    "with open('results.csv', mode='a', newline='') as results_file:\n",
    "    results_writer = csv.writer(results_file)\n",
    "    results_writer.writerow(['VGG 3 Block with Argumentation', training_time, train_loss, train_acc, test_acc, num_params])\n",
    "    \n",
    "model3.save('saved_models/vgg_3_block_with_args.h5')"
   ]
  },
  {
   "cell_type": "code",
   "execution_count": 16,
   "id": "5f17c54d-ca66-4d8b-bca9-6e290cde367a",
   "metadata": {
    "tags": []
   },
   "outputs": [
    {
     "name": "stdout",
     "output_type": "stream",
     "text": [
      " 9/40 [=====>........................] - ETA: 0s"
     ]
    },
    {
     "name": "stderr",
     "output_type": "stream",
     "text": [
      "2023-04-19 14:42:19.125891: I tensorflow/core/common_runtime/executor.cc:1197] [/device:CPU:0] (DEBUG INFO) Executor start aborting (this does not indicate an error and you can ignore this message): INVALID_ARGUMENT: You must feed a value for placeholder tensor 'Placeholder/_0' with dtype int32\n",
      "\t [[{{node Placeholder/_0}}]]\n"
     ]
    },
    {
     "name": "stdout",
     "output_type": "stream",
     "text": [
      "40/40 [==============================] - 1s 14ms/step\n"
     ]
    }
   ],
   "source": [
    "plot_predictions('Vgg3_args', model3, 'log_images/vgg_3_block_with_args', prediction_generator)"
   ]
  },
  {
   "cell_type": "markdown",
   "id": "28057df3-5774-474e-ac0f-c5dda25a5291",
   "metadata": {
    "jp-MarkdownHeadingCollapsed": true,
    "tags": []
   },
   "source": [
    "#### VGG 16 Transfer Learning"
   ]
  },
  {
   "cell_type": "code",
   "execution_count": 17,
   "id": "7a342666-6481-4474-a4b7-59c2913ad373",
   "metadata": {
    "tags": []
   },
   "outputs": [
    {
     "name": "stdout",
     "output_type": "stream",
     "text": [
      "Found 160 images belonging to 2 classes.\n",
      "Found 40 images belonging to 2 classes.\n"
     ]
    }
   ],
   "source": [
    "# Define the preprocessing function for VGG16 model\n",
    "preprocess_input = tf.keras.applications.vgg16.preprocess_input\n",
    "\n",
    "# Create a train data generator with the preprocessing function\n",
    "train_datagen = keras.preprocessing.image.ImageDataGenerator(preprocessing_function=preprocess_input)\n",
    "\n",
    "# Define the train generator by reading the images from the train directory\n",
    "train_generator = train_datagen.flow_from_directory(\n",
    "    train_dir,                        # path to training data directory\n",
    "    target_size=img_size,             # size of input images\n",
    "    batch_size=batch_size,            # number of images per batch\n",
    "    class_mode='binary'               # type of classification problem (binary or categorical)\n",
    ")\n",
    "\n",
    "# Create a test data generator with the same preprocessing function as train generator\n",
    "test_datagen = keras.preprocessing.image.ImageDataGenerator(preprocessing_function=preprocess_input)\n",
    "\n",
    "# Define the test generator by reading the images from the test directory\n",
    "test_generator = test_datagen.flow_from_directory(\n",
    "    test_dir,                         # path to test data directory\n",
    "    target_size=img_size,             # size of input images\n",
    "    batch_size=batch_size,            # number of images per batch\n",
    "    class_mode='binary'               # type of classification problem (binary or categorical)\n",
    ")"
   ]
  },
  {
   "cell_type": "code",
   "execution_count": 18,
   "id": "363ba170-c97b-4dfa-8238-0e55452e834a",
   "metadata": {
    "tags": []
   },
   "outputs": [
    {
     "name": "stdout",
     "output_type": "stream",
     "text": [
      "Model: \"vgg_16\"\n",
      "_________________________________________________________________\n",
      " Layer (type)                Output Shape              Param #   \n",
      "=================================================================\n",
      " input_1 (InputLayer)        [(None, 128, 128, 3)]     0         \n",
      "                                                                 \n",
      " block1_conv1 (Conv2D)       (None, 128, 128, 64)      1792      \n",
      "                                                                 \n",
      " block1_conv2 (Conv2D)       (None, 128, 128, 64)      36928     \n",
      "                                                                 \n",
      " block1_pool (MaxPooling2D)  (None, 64, 64, 64)        0         \n",
      "                                                                 \n",
      " block2_conv1 (Conv2D)       (None, 64, 64, 128)       73856     \n",
      "                                                                 \n",
      " block2_conv2 (Conv2D)       (None, 64, 64, 128)       147584    \n",
      "                                                                 \n",
      " block2_pool (MaxPooling2D)  (None, 32, 32, 128)       0         \n",
      "                                                                 \n",
      " block3_conv1 (Conv2D)       (None, 32, 32, 256)       295168    \n",
      "                                                                 \n",
      " block3_conv2 (Conv2D)       (None, 32, 32, 256)       590080    \n",
      "                                                                 \n",
      " block3_conv3 (Conv2D)       (None, 32, 32, 256)       590080    \n",
      "                                                                 \n",
      " block3_pool (MaxPooling2D)  (None, 16, 16, 256)       0         \n",
      "                                                                 \n",
      " block4_conv1 (Conv2D)       (None, 16, 16, 512)       1180160   \n",
      "                                                                 \n",
      " block4_conv2 (Conv2D)       (None, 16, 16, 512)       2359808   \n",
      "                                                                 \n",
      " block4_conv3 (Conv2D)       (None, 16, 16, 512)       2359808   \n",
      "                                                                 \n",
      " block4_pool (MaxPooling2D)  (None, 8, 8, 512)         0         \n",
      "                                                                 \n",
      " block5_conv1 (Conv2D)       (None, 8, 8, 512)         2359808   \n",
      "                                                                 \n",
      " block5_conv2 (Conv2D)       (None, 8, 8, 512)         2359808   \n",
      "                                                                 \n",
      " block5_conv3 (Conv2D)       (None, 8, 8, 512)         2359808   \n",
      "                                                                 \n",
      " block5_pool (MaxPooling2D)  (None, 4, 4, 512)         0         \n",
      "                                                                 \n",
      " flatten_3 (Flatten)         (None, 8192)              0         \n",
      "                                                                 \n",
      " dense_6 (Dense)             (None, 128)               1048704   \n",
      "                                                                 \n",
      " dense_7 (Dense)             (None, 1)                 129       \n",
      "                                                                 \n",
      "=================================================================\n",
      "Total params: 15,763,521\n",
      "Trainable params: 1,048,833\n",
      "Non-trainable params: 14,714,688\n",
      "_________________________________________________________________\n"
     ]
    }
   ],
   "source": [
    "def vgg_16_transfer_learning():\n",
    "    # load model\n",
    "    model = tf.keras.applications.vgg16.VGG16(include_top=False, input_shape=input_img_size)\n",
    "    # mark loaded layers as not trainable\n",
    "    for layer in model.layers:\n",
    "        layer.trainable = False\n",
    "    # add new classifier layers\n",
    "    flat1 = Flatten()(model.layers[-1].output)\n",
    "    class1 = Dense(128, activation='relu', kernel_initializer='he_uniform')(flat1)\n",
    "    output = Dense(1, activation='sigmoid')(class1)\n",
    "    # define new model\n",
    "    model = keras.models.Model(inputs=model.inputs, outputs=output, name='vgg_16')\n",
    "    return model\n",
    "\n",
    "model4 = vgg_16_transfer_learning()\n",
    "\n",
    "# Print a summary of the model's architecture\n",
    "model4.summary()\n",
    "\n",
    "# Define a log directory for TensorBoard\n",
    "log_dir = 'log_stats/vgg_16'\n",
    "\n",
    "# Define the TensorBoard callback with update_freq='batch'\n",
    "tensorboard_callback = tf.keras.callbacks.TensorBoard(log_dir=log_dir, update_freq='batch')"
   ]
  },
  {
   "cell_type": "code",
   "execution_count": 19,
   "id": "86d8c4d3-c4c9-4f7e-989b-6bd3c284db70",
   "metadata": {
    "tags": []
   },
   "outputs": [
    {
     "name": "stdout",
     "output_type": "stream",
     "text": [
      "Epoch 1/20\n"
     ]
    },
    {
     "name": "stderr",
     "output_type": "stream",
     "text": [
      "2023-04-19 14:42:20.544130: I tensorflow/core/common_runtime/executor.cc:1197] [/device:CPU:0] (DEBUG INFO) Executor start aborting (this does not indicate an error and you can ignore this message): INVALID_ARGUMENT: You must feed a value for placeholder tensor 'Placeholder/_0' with dtype int32\n",
      "\t [[{{node Placeholder/_0}}]]\n"
     ]
    },
    {
     "name": "stdout",
     "output_type": "stream",
     "text": [
      "8/8 [==============================] - 3s 349ms/step - loss: 5.2201 - accuracy: 0.7875\n",
      "Epoch 2/20\n",
      "8/8 [==============================] - 3s 337ms/step - loss: 1.4520 - accuracy: 0.9250\n",
      "Epoch 3/20\n",
      "8/8 [==============================] - 3s 342ms/step - loss: 0.2833 - accuracy: 0.9625\n",
      "Epoch 4/20\n",
      "8/8 [==============================] - 3s 340ms/step - loss: 3.8766e-07 - accuracy: 1.0000\n",
      "Epoch 5/20\n",
      "8/8 [==============================] - 3s 335ms/step - loss: 2.5094e-04 - accuracy: 1.0000\n",
      "Epoch 6/20\n",
      "8/8 [==============================] - 3s 336ms/step - loss: 9.4699e-06 - accuracy: 1.0000\n",
      "Epoch 7/20\n",
      "8/8 [==============================] - 3s 335ms/step - loss: 5.3511e-07 - accuracy: 1.0000\n",
      "Epoch 8/20\n",
      "8/8 [==============================] - 3s 339ms/step - loss: 3.5025e-07 - accuracy: 1.0000\n",
      "Epoch 9/20\n",
      "8/8 [==============================] - 3s 336ms/step - loss: 2.1423e-07 - accuracy: 1.0000\n",
      "Epoch 10/20\n",
      "8/8 [==============================] - 3s 337ms/step - loss: 1.9476e-07 - accuracy: 1.0000\n",
      "Epoch 11/20\n",
      "8/8 [==============================] - 3s 337ms/step - loss: 1.4968e-07 - accuracy: 1.0000\n",
      "Epoch 12/20\n",
      "8/8 [==============================] - 3s 337ms/step - loss: 1.2451e-07 - accuracy: 1.0000\n",
      "Epoch 13/20\n",
      "8/8 [==============================] - 3s 335ms/step - loss: 1.1644e-07 - accuracy: 1.0000\n",
      "Epoch 14/20\n",
      "8/8 [==============================] - 3s 336ms/step - loss: 1.0194e-07 - accuracy: 1.0000\n",
      "Epoch 15/20\n",
      "8/8 [==============================] - 3s 337ms/step - loss: 9.6853e-08 - accuracy: 1.0000\n",
      "Epoch 16/20\n",
      "8/8 [==============================] - 3s 339ms/step - loss: 8.6054e-08 - accuracy: 1.0000\n",
      "Epoch 17/20\n",
      "8/8 [==============================] - 3s 338ms/step - loss: 7.8499e-08 - accuracy: 1.0000\n",
      "Epoch 18/20\n",
      "8/8 [==============================] - 3s 337ms/step - loss: 7.4105e-08 - accuracy: 1.0000\n",
      "Epoch 19/20\n",
      "8/8 [==============================] - 3s 337ms/step - loss: 6.9560e-08 - accuracy: 1.0000\n",
      "Epoch 20/20\n",
      "8/8 [==============================] - 3s 337ms/step - loss: 6.3877e-08 - accuracy: 1.0000\n"
     ]
    },
    {
     "name": "stderr",
     "output_type": "stream",
     "text": [
      "2023-04-19 14:43:16.201525: I tensorflow/core/common_runtime/executor.cc:1197] [/device:CPU:0] (DEBUG INFO) Executor start aborting (this does not indicate an error and you can ignore this message): INVALID_ARGUMENT: You must feed a value for placeholder tensor 'Placeholder/_0' with dtype int32\n",
      "\t [[{{node Placeholder/_0}}]]\n"
     ]
    },
    {
     "name": "stdout",
     "output_type": "stream",
     "text": [
      "8/8 [==============================] - 3s 331ms/step - loss: 6.1388e-08 - accuracy: 1.0000\n"
     ]
    },
    {
     "name": "stderr",
     "output_type": "stream",
     "text": [
      "2023-04-19 14:43:19.074663: I tensorflow/core/common_runtime/executor.cc:1197] [/device:CPU:0] (DEBUG INFO) Executor start aborting (this does not indicate an error and you can ignore this message): INVALID_ARGUMENT: You must feed a value for placeholder tensor 'Placeholder/_0' with dtype int32\n",
      "\t [[{{node Placeholder/_0}}]]\n"
     ]
    },
    {
     "name": "stdout",
     "output_type": "stream",
     "text": [
      "2/2 [==============================] - 1s 323ms/step - loss: 3.0647 - accuracy: 0.8500\n"
     ]
    }
   ],
   "source": [
    "# Compile the model with 'adam' optimizer, 'binary_crossentropy' loss function, and 'accuracy' metric\n",
    "model4.compile(optimizer='adam', loss='binary_crossentropy', metrics=['accuracy'])\n",
    "\n",
    "# Start timing the training\n",
    "start_time = time.time()\n",
    "\n",
    "# Train the model using the training generator for a specified number of epochs, and save the history\n",
    "history = model4.fit(train_generator, steps_per_epoch=len(train_generator), epochs=num_epochs, callbacks=[tensorboard_callback])\n",
    "\n",
    "# Stop timing the training\n",
    "end_time = time.time()\n",
    "\n",
    "# Calculate the training time by subtracting the start time from the end time\n",
    "training_time = end_time - start_time\n",
    "\n",
    "# Evaluate the model on the training set and get the training loss and accuracy\n",
    "train_loss, train_acc = model4.evaluate(train_generator)\n",
    "\n",
    "# Evaluate the model on the test set and get the test loss and accuracy\n",
    "test_loss, test_acc = model4.evaluate(test_generator)\n",
    "\n",
    "# Count the number of parameters in the model\n",
    "num_params = model4.count_params()\n",
    "\n",
    "# Open the results file in append mode and writing the results\n",
    "with open('results.csv', mode='a', newline='') as results_file:\n",
    "    results_writer = csv.writer(results_file)\n",
    "    results_writer.writerow(['VGG 16', training_time, train_loss, train_acc, test_acc, num_params])\n",
    "    \n",
    "model4.save('saved_models/vgg_16_transfer_learning.h5')"
   ]
  },
  {
   "cell_type": "code",
   "execution_count": 20,
   "id": "a0b7b6fe",
   "metadata": {
    "tags": []
   },
   "outputs": [
    {
     "name": "stderr",
     "output_type": "stream",
     "text": [
      "2023-04-19 14:43:19.915752: I tensorflow/core/common_runtime/executor.cc:1197] [/device:CPU:0] (DEBUG INFO) Executor start aborting (this does not indicate an error and you can ignore this message): INVALID_ARGUMENT: You must feed a value for placeholder tensor 'Placeholder/_0' with dtype int32\n",
      "\t [[{{node Placeholder/_0}}]]\n"
     ]
    },
    {
     "name": "stdout",
     "output_type": "stream",
     "text": [
      "2/2 [==============================] - 1s 332ms/step - loss: 3.0647 - accuracy: 0.8500\n"
     ]
    }
   ],
   "source": [
    "test_loss, test_acc = model4.evaluate(test_generator)"
   ]
  },
  {
   "cell_type": "code",
   "execution_count": 21,
   "id": "45be6b2d-270e-4aa6-a5a8-dc56768f485a",
   "metadata": {
    "tags": []
   },
   "outputs": [
    {
     "name": "stdout",
     "output_type": "stream",
     "text": [
      " 4/40 [==>...........................] - ETA: 0s"
     ]
    },
    {
     "name": "stderr",
     "output_type": "stream",
     "text": [
      "2023-04-19 14:43:20.693366: I tensorflow/core/common_runtime/executor.cc:1197] [/device:CPU:0] (DEBUG INFO) Executor start aborting (this does not indicate an error and you can ignore this message): INVALID_ARGUMENT: You must feed a value for placeholder tensor 'Placeholder/_0' with dtype int32\n",
      "\t [[{{node Placeholder/_0}}]]\n"
     ]
    },
    {
     "name": "stdout",
     "output_type": "stream",
     "text": [
      "40/40 [==============================] - 1s 21ms/step\n"
     ]
    }
   ],
   "source": [
    "plot_predictions('Vgg16', model4, 'log_images/vgg_16', prediction_generator_vgg)"
   ]
  },
  {
   "cell_type": "markdown",
   "id": "b4a7cb34-1690-4dc0-ad53-5a01467ddb04",
   "metadata": {
    "jp-MarkdownHeadingCollapsed": true,
    "tags": []
   },
   "source": [
    "#### MLP with 18 million trainable parameters"
   ]
  },
  {
   "cell_type": "code",
   "execution_count": 22,
   "id": "b632ee77-1852-483e-b6bf-dfc646906474",
   "metadata": {
    "tags": []
   },
   "outputs": [
    {
     "name": "stdout",
     "output_type": "stream",
     "text": [
      "Model: \"MLP\"\n",
      "_________________________________________________________________\n",
      " Layer (type)                Output Shape              Param #   \n",
      "=================================================================\n",
      " flatten_4 (Flatten)         (None, 49152)             0         \n",
      "                                                                 \n",
      " dense_8 (Dense)             (None, 256)               12583168  \n",
      "                                                                 \n",
      " dense_9 (Dense)             (None, 4096)              1052672   \n",
      "                                                                 \n",
      " dense_10 (Dense)            (None, 1024)              4195328   \n",
      "                                                                 \n",
      " dense_11 (Dense)            (None, 1)                 1025      \n",
      "                                                                 \n",
      "=================================================================\n",
      "Total params: 17,832,193\n",
      "Trainable params: 17,832,193\n",
      "Non-trainable params: 0\n",
      "_________________________________________________________________\n"
     ]
    }
   ],
   "source": [
    "# Define the MLP model\n",
    "def create_mlp_18():\n",
    "    model = Sequential(name = 'MLP')\n",
    "    model.add(Flatten(input_shape=input_img_size))\n",
    "    model.add(Dense(256, activation='relu'))\n",
    "    model.add(Dense(4096, activation='relu'))\n",
    "    model.add(Dense(1024, activation='relu'))\n",
    "    # model.add(Dropout(0.2))\n",
    "    model.add(Dense(1, activation='sigmoid'))\n",
    "    return model\n",
    "\n",
    "model5 = create_mlp_18()\n",
    "# Print the model summary to see the number of parameters\n",
    "model5.summary()\n",
    "\n",
    "# Define a log directory for TensorBoard\n",
    "log_dir = 'log_stats/mlp_18'\n",
    "\n",
    "# Define the TensorBoard callback with update_freq='batch'\n",
    "tensorboard_callback = tf.keras.callbacks.TensorBoard(log_dir=log_dir, update_freq='batch')"
   ]
  },
  {
   "cell_type": "code",
   "execution_count": 23,
   "id": "2cc80df4-a01e-4b18-a443-13c5f14b811d",
   "metadata": {
    "tags": []
   },
   "outputs": [
    {
     "name": "stdout",
     "output_type": "stream",
     "text": [
      "Epoch 1/20\n"
     ]
    },
    {
     "name": "stderr",
     "output_type": "stream",
     "text": [
      "2023-04-19 14:43:22.001196: I tensorflow/core/common_runtime/executor.cc:1197] [/device:CPU:0] (DEBUG INFO) Executor start aborting (this does not indicate an error and you can ignore this message): INVALID_ARGUMENT: You must feed a value for placeholder tensor 'Placeholder/_0' with dtype int32\n",
      "\t [[{{node Placeholder/_0}}]]\n"
     ]
    },
    {
     "name": "stdout",
     "output_type": "stream",
     "text": [
      "8/8 [==============================] - 2s 181ms/step - loss: 828.1496 - accuracy: 0.5188\n",
      "Epoch 2/20\n",
      "8/8 [==============================] - 1s 181ms/step - loss: 16.2150 - accuracy: 0.5375\n",
      "Epoch 3/20\n",
      "8/8 [==============================] - 1s 180ms/step - loss: 15.6720 - accuracy: 0.7688\n",
      "Epoch 4/20\n",
      "8/8 [==============================] - 1s 177ms/step - loss: 12.2998 - accuracy: 0.7250\n",
      "Epoch 5/20\n",
      "8/8 [==============================] - 1s 179ms/step - loss: 5.2125 - accuracy: 0.7750\n",
      "Epoch 6/20\n",
      "8/8 [==============================] - 1s 180ms/step - loss: 0.6979 - accuracy: 0.7625\n",
      "Epoch 7/20\n",
      "8/8 [==============================] - 1s 180ms/step - loss: 0.4396 - accuracy: 0.8125\n",
      "Epoch 8/20\n",
      "8/8 [==============================] - 1s 177ms/step - loss: 0.2875 - accuracy: 0.8375\n",
      "Epoch 9/20\n",
      "8/8 [==============================] - 1s 179ms/step - loss: 0.2572 - accuracy: 0.8562\n",
      "Epoch 10/20\n",
      "8/8 [==============================] - 1s 176ms/step - loss: 0.2298 - accuracy: 0.8813\n",
      "Epoch 11/20\n",
      "8/8 [==============================] - 1s 176ms/step - loss: 0.2363 - accuracy: 0.8625\n",
      "Epoch 12/20\n",
      "8/8 [==============================] - 1s 176ms/step - loss: 0.2186 - accuracy: 0.8813\n",
      "Epoch 13/20\n",
      "8/8 [==============================] - 1s 178ms/step - loss: 0.2041 - accuracy: 0.8875\n",
      "Epoch 14/20\n",
      "8/8 [==============================] - 1s 182ms/step - loss: 0.1776 - accuracy: 0.8875\n",
      "Epoch 15/20\n",
      "8/8 [==============================] - 1s 180ms/step - loss: 0.1936 - accuracy: 0.8813\n",
      "Epoch 16/20\n",
      "8/8 [==============================] - 1s 181ms/step - loss: 0.1938 - accuracy: 0.8750\n",
      "Epoch 17/20\n",
      "8/8 [==============================] - 1s 178ms/step - loss: 0.2023 - accuracy: 0.8562\n",
      "Epoch 18/20\n",
      "8/8 [==============================] - 1s 178ms/step - loss: 0.2071 - accuracy: 0.8562\n",
      "Epoch 19/20\n",
      "8/8 [==============================] - 1s 179ms/step - loss: 0.2038 - accuracy: 0.8562\n",
      "Epoch 20/20\n",
      "8/8 [==============================] - 1s 177ms/step - loss: 0.2014 - accuracy: 0.8562\n",
      "1/8 [==>...........................] - ETA: 1s - loss: 0.1485 - accuracy: 0.9500"
     ]
    },
    {
     "name": "stderr",
     "output_type": "stream",
     "text": [
      "2023-04-19 14:43:51.992711: I tensorflow/core/common_runtime/executor.cc:1197] [/device:CPU:0] (DEBUG INFO) Executor start aborting (this does not indicate an error and you can ignore this message): INVALID_ARGUMENT: You must feed a value for placeholder tensor 'Placeholder/_0' with dtype int32\n",
      "\t [[{{node Placeholder/_0}}]]\n"
     ]
    },
    {
     "name": "stdout",
     "output_type": "stream",
     "text": [
      "8/8 [==============================] - 0s 34ms/step - loss: 0.1929 - accuracy: 0.8562\n",
      "2/2 [==============================] - 0s 28ms/step - loss: 1.7975 - accuracy: 0.6750\n"
     ]
    },
    {
     "name": "stderr",
     "output_type": "stream",
     "text": [
      "2023-04-19 14:43:52.421763: I tensorflow/core/common_runtime/executor.cc:1197] [/device:CPU:0] (DEBUG INFO) Executor start aborting (this does not indicate an error and you can ignore this message): INVALID_ARGUMENT: You must feed a value for placeholder tensor 'Placeholder/_0' with dtype int32\n",
      "\t [[{{node Placeholder/_0}}]]\n"
     ]
    }
   ],
   "source": [
    "# Compile the model with 'adam' optimizer, 'binary_crossentropy' loss function, and 'accuracy' metric\n",
    "model5.compile(optimizer='adam', loss='binary_crossentropy', metrics=['accuracy'])\n",
    "\n",
    "# Start timing the training\n",
    "start_time = time.time()\n",
    "\n",
    "# Train the model using the training generator for a specified number of epochs, and save the history\n",
    "history = model5.fit(train_generator, steps_per_epoch=len(train_generator), epochs=num_epochs, callbacks=[tensorboard_callback])\n",
    "\n",
    "# Stop timing the training\n",
    "end_time = time.time()\n",
    "\n",
    "# Calculate the training time by subtracting the start time from the end time\n",
    "training_time = end_time - start_time\n",
    "\n",
    "# Evaluate the model on the training set and get the training loss and accuracy\n",
    "train_loss, train_acc = model5.evaluate(train_generator)\n",
    "\n",
    "# Evaluate the model on the test set and get the test loss and accuracy\n",
    "test_loss, test_acc = model5.evaluate(test_generator)\n",
    "\n",
    "# Count the number of parameters in the model\n",
    "num_params = model5.count_params()\n",
    "\n",
    "# Open the results file in append mode and writing the results\n",
    "with open('results.csv', mode='a', newline='') as results_file:\n",
    "    results_writer = csv.writer(results_file)\n",
    "    results_writer.writerow(['MLP18', training_time, train_loss, train_acc, test_acc, num_params])\n",
    "    \n",
    "model5.save('saved_models/mlp18.h5')"
   ]
  },
  {
   "cell_type": "code",
   "execution_count": 24,
   "id": "5d11416b-7c38-4123-9b13-18c1f7a56375",
   "metadata": {
    "tags": []
   },
   "outputs": [
    {
     "name": "stdout",
     "output_type": "stream",
     "text": [
      " 6/40 [===>..........................] - ETA: 0s"
     ]
    },
    {
     "name": "stderr",
     "output_type": "stream",
     "text": [
      "2023-04-19 14:43:53.022685: I tensorflow/core/common_runtime/executor.cc:1197] [/device:CPU:0] (DEBUG INFO) Executor start aborting (this does not indicate an error and you can ignore this message): INVALID_ARGUMENT: You must feed a value for placeholder tensor 'Placeholder/_0' with dtype int32\n",
      "\t [[{{node Placeholder/_0}}]]\n"
     ]
    },
    {
     "name": "stdout",
     "output_type": "stream",
     "text": [
      "40/40 [==============================] - 1s 11ms/step\n"
     ]
    }
   ],
   "source": [
    "plot_predictions('MLP18', model5, 'log_images/mlp18', prediction_generator)"
   ]
  },
  {
   "cell_type": "markdown",
   "id": "219c6811-0e02-4911-a75b-8503842313ad",
   "metadata": {},
   "source": [
    "#### MLP with 135 Million Trainable Parameters"
   ]
  },
  {
   "cell_type": "code",
   "execution_count": 25,
   "id": "1572b3c8-f1ac-4e2b-a26b-40934a7f0ad9",
   "metadata": {},
   "outputs": [
    {
     "name": "stderr",
     "output_type": "stream",
     "text": [
      "2023-04-19 14:55:06.216229: W tensorflow/tsl/framework/cpu_allocator_impl.cc:83] Allocation of 491520000 exceeds 10% of free system memory.\n",
      "2023-04-19 14:55:06.543298: W tensorflow/tsl/framework/cpu_allocator_impl.cc:83] Allocation of 491520000 exceeds 10% of free system memory.\n",
      "2023-04-19 14:55:06.622387: W tensorflow/tsl/framework/cpu_allocator_impl.cc:83] Allocation of 491520000 exceeds 10% of free system memory.\n"
     ]
    },
    {
     "name": "stdout",
     "output_type": "stream",
     "text": [
      "Model: \"MLP\"\n",
      "_________________________________________________________________\n",
      " Layer (type)                Output Shape              Param #   \n",
      "=================================================================\n",
      " flatten_5 (Flatten)         (None, 49152)             0         \n",
      "                                                                 \n",
      " dense_12 (Dense)            (None, 2500)              122882500 \n",
      "                                                                 \n",
      " dense_13 (Dense)            (None, 2500)              6252500   \n",
      "                                                                 \n",
      " dense_14 (Dense)            (None, 2500)              6252500   \n",
      "                                                                 \n",
      " dense_15 (Dense)            (None, 1)                 2501      \n",
      "                                                                 \n",
      "=================================================================\n",
      "Total params: 135,390,001\n",
      "Trainable params: 135,390,001\n",
      "Non-trainable params: 0\n",
      "_________________________________________________________________\n"
     ]
    }
   ],
   "source": [
    "# Define the MLP model\n",
    "def create_mlp_135():\n",
    "    model = Sequential(name = 'MLP')\n",
    "    model.add(Flatten(input_shape=input_img_size))\n",
    "    model.add(Dense(2500, activation='relu'))\n",
    "    model.add(Dense(2500, activation='relu'))\n",
    "    model.add(Dense(2500, activation='relu'))\n",
    "    # model.add(Dropout(0.2))\n",
    "    model.add(Dense(1, activation='sigmoid'))\n",
    "    return model\n",
    "\n",
    "model6 = create_mlp_135()\n",
    "# Print the model summary to see the number of parameters\n",
    "model6.summary()\n",
    "\n",
    "# Define a log directory for TensorBoard\n",
    "log_dir = 'log_stats/mlp_135'\n",
    "\n",
    "# Define the TensorBoard callback with update_freq='batch'\n",
    "tensorboard_callback = tf.keras.callbacks.TensorBoard(log_dir=log_dir, update_freq='batch')"
   ]
  },
  {
   "cell_type": "code",
   "execution_count": 26,
   "id": "431209cf-e132-444b-a577-2b54f216d3e6",
   "metadata": {},
   "outputs": [
    {
     "name": "stdout",
     "output_type": "stream",
     "text": [
      "Epoch 1/20\n"
     ]
    },
    {
     "name": "stderr",
     "output_type": "stream",
     "text": [
      "2023-04-19 14:55:09.682721: I tensorflow/core/common_runtime/executor.cc:1197] [/device:CPU:0] (DEBUG INFO) Executor start aborting (this does not indicate an error and you can ignore this message): INVALID_ARGUMENT: You must feed a value for placeholder tensor 'Placeholder/_0' with dtype int32\n",
      "\t [[{{node Placeholder/_0}}]]\n",
      "2023-04-19 14:55:09.831306: W tensorflow/tsl/framework/cpu_allocator_impl.cc:83] Allocation of 491520000 exceeds 10% of free system memory.\n",
      "2023-04-19 14:55:09.874048: W tensorflow/tsl/framework/cpu_allocator_impl.cc:83] Allocation of 491520000 exceeds 10% of free system memory.\n"
     ]
    },
    {
     "name": "stdout",
     "output_type": "stream",
     "text": [
      "8/8 [==============================] - 11s 1s/step - loss: 8302.7051 - accuracy: 0.4750\n",
      "Epoch 2/20\n",
      "8/8 [==============================] - 10s 1s/step - loss: 871.6079 - accuracy: 0.6062\n",
      "Epoch 3/20\n",
      "8/8 [==============================] - 10s 1s/step - loss: 273.8789 - accuracy: 0.7188\n",
      "Epoch 4/20\n",
      "8/8 [==============================] - 10s 1s/step - loss: 134.2486 - accuracy: 0.7250\n",
      "Epoch 5/20\n",
      "8/8 [==============================] - 10s 1s/step - loss: 77.9153 - accuracy: 0.8062\n",
      "Epoch 6/20\n",
      "8/8 [==============================] - 10s 1s/step - loss: 115.3639 - accuracy: 0.8125\n",
      "Epoch 7/20\n",
      "8/8 [==============================] - 10s 1s/step - loss: 86.5102 - accuracy: 0.8813\n",
      "Epoch 8/20\n",
      "8/8 [==============================] - 10s 1s/step - loss: 5.3630 - accuracy: 0.9563\n",
      "Epoch 9/20\n",
      "8/8 [==============================] - 10s 1s/step - loss: 40.6399 - accuracy: 0.9187\n",
      "Epoch 10/20\n",
      "8/8 [==============================] - 10s 1s/step - loss: 8.1418 - accuracy: 0.9375\n",
      "Epoch 11/20\n",
      "8/8 [==============================] - 10s 1s/step - loss: 22.5314 - accuracy: 0.9375\n",
      "Epoch 12/20\n",
      "8/8 [==============================] - 10s 1s/step - loss: 50.7123 - accuracy: 0.9000\n",
      "Epoch 13/20\n",
      "8/8 [==============================] - 10s 1s/step - loss: 57.6497 - accuracy: 0.8813\n",
      "Epoch 14/20\n",
      "8/8 [==============================] - 10s 1s/step - loss: 34.0063 - accuracy: 0.9187\n",
      "Epoch 15/20\n",
      "8/8 [==============================] - 10s 1s/step - loss: 21.8980 - accuracy: 0.9187\n",
      "Epoch 16/20\n",
      "8/8 [==============================] - 10s 1s/step - loss: 0.7129 - accuracy: 0.9812\n",
      "Epoch 17/20\n",
      "8/8 [==============================] - 10s 1s/step - loss: 128.1349 - accuracy: 0.8875\n",
      "Epoch 18/20\n",
      "8/8 [==============================] - 10s 1s/step - loss: 12.1085 - accuracy: 0.9625\n",
      "Epoch 19/20\n",
      "8/8 [==============================] - 10s 1s/step - loss: 7.0070 - accuracy: 0.9750\n",
      "Epoch 20/20\n",
      "8/8 [==============================] - 10s 1s/step - loss: 36.5162 - accuracy: 0.9625\n",
      "1/8 [==>...........................] - ETA: 1s - loss: 3.6694e-20 - accuracy: 1.0000"
     ]
    },
    {
     "name": "stderr",
     "output_type": "stream",
     "text": [
      "2023-04-19 14:58:32.310921: I tensorflow/core/common_runtime/executor.cc:1197] [/device:CPU:0] (DEBUG INFO) Executor start aborting (this does not indicate an error and you can ignore this message): INVALID_ARGUMENT: You must feed a value for placeholder tensor 'Placeholder/_0' with dtype int32\n",
      "\t [[{{node Placeholder/_0}}]]\n"
     ]
    },
    {
     "name": "stdout",
     "output_type": "stream",
     "text": [
      "8/8 [==============================] - 0s 38ms/step - loss: 39.5354 - accuracy: 0.9812\n",
      "2/2 [==============================] - 0s 49ms/step - loss: 298.6696 - accuracy: 0.7000\n"
     ]
    },
    {
     "name": "stderr",
     "output_type": "stream",
     "text": [
      "2023-04-19 14:58:32.793472: I tensorflow/core/common_runtime/executor.cc:1197] [/device:CPU:0] (DEBUG INFO) Executor start aborting (this does not indicate an error and you can ignore this message): INVALID_ARGUMENT: You must feed a value for placeholder tensor 'Placeholder/_0' with dtype int32\n",
      "\t [[{{node Placeholder/_0}}]]\n"
     ]
    }
   ],
   "source": [
    "# Compile the model with 'adam' optimizer, 'binary_crossentropy' loss function, and 'accuracy' metric\n",
    "model6.compile(optimizer='adam', loss='binary_crossentropy', metrics=['accuracy'])\n",
    "\n",
    "# Start timing the training\n",
    "start_time = time.time()\n",
    "\n",
    "# Train the model using the training generator for a specified number of epochs, and save the history\n",
    "history = model6.fit(train_generator, steps_per_epoch=len(train_generator), epochs=num_epochs, callbacks=[tensorboard_callback])\n",
    "\n",
    "# Stop timing the training\n",
    "end_time = time.time()\n",
    "\n",
    "# Calculate the training time by subtracting the start time from the end time\n",
    "training_time = end_time - start_time\n",
    "\n",
    "# Evaluate the model on the training set and get the training loss and accuracy\n",
    "train_loss, train_acc = model6.evaluate(train_generator)\n",
    "\n",
    "# Evaluate the model on the test set and get the test loss and accuracy\n",
    "test_loss, test_acc = model6.evaluate(test_generator)\n",
    "\n",
    "# Count the number of parameters in the model\n",
    "num_params = model6.count_params()\n",
    "\n",
    "# Open the results file in append mode and writing the results\n",
    "with open('results.csv', mode='a', newline='') as results_file:\n",
    "    results_writer = csv.writer(results_file)\n",
    "    results_writer.writerow(['MLP135', training_time, train_loss, train_acc, test_acc, num_params])\n",
    "    \n",
    "model5.save('saved_models/mlp135.h5')"
   ]
  },
  {
   "cell_type": "code",
   "execution_count": 27,
   "id": "6663f738-5547-413b-aa79-9f320a11ebcf",
   "metadata": {},
   "outputs": [
    {
     "name": "stdout",
     "output_type": "stream",
     "text": [
      " 2/40 [>.............................] - ETA: 2s"
     ]
    },
    {
     "name": "stderr",
     "output_type": "stream",
     "text": [
      "2023-04-19 14:58:33.204956: I tensorflow/core/common_runtime/executor.cc:1197] [/device:CPU:0] (DEBUG INFO) Executor start aborting (this does not indicate an error and you can ignore this message): INVALID_ARGUMENT: You must feed a value for placeholder tensor 'Placeholder/_0' with dtype int32\n",
      "\t [[{{node Placeholder/_0}}]]\n"
     ]
    },
    {
     "name": "stdout",
     "output_type": "stream",
     "text": [
      "40/40 [==============================] - 2s 52ms/step\n"
     ]
    }
   ],
   "source": [
    "plot_predictions('MLP135', model6, 'log_images/mlp135', prediction_generator)"
   ]
  },
  {
   "cell_type": "markdown",
   "id": "00180c8b-61f6-4267-a8fa-51651a4b1b23",
   "metadata": {},
   "source": [
    "#### Comparisons"
   ]
  },
  {
   "cell_type": "code",
   "execution_count": 28,
   "id": "5f5641fe-c588-453a-8c77-157f754d0715",
   "metadata": {
    "tags": []
   },
   "outputs": [
    {
     "data": {
      "text/html": [
       "<div>\n",
       "<style scoped>\n",
       "    .dataframe tbody tr th:only-of-type {\n",
       "        vertical-align: middle;\n",
       "    }\n",
       "\n",
       "    .dataframe tbody tr th {\n",
       "        vertical-align: top;\n",
       "    }\n",
       "\n",
       "    .dataframe thead th {\n",
       "        text-align: right;\n",
       "    }\n",
       "</style>\n",
       "<table border=\"1\" class=\"dataframe\">\n",
       "  <thead>\n",
       "    <tr style=\"text-align: right;\">\n",
       "      <th></th>\n",
       "      <th>Training Time</th>\n",
       "      <th>Train Loss</th>\n",
       "      <th>Train Acc</th>\n",
       "      <th>Test Acc</th>\n",
       "      <th>Num Params</th>\n",
       "    </tr>\n",
       "    <tr>\n",
       "      <th>Model Name</th>\n",
       "      <th></th>\n",
       "      <th></th>\n",
       "      <th></th>\n",
       "      <th></th>\n",
       "      <th></th>\n",
       "    </tr>\n",
       "  </thead>\n",
       "  <tbody>\n",
       "    <tr>\n",
       "      <th>VGG 1 Block</th>\n",
       "      <td>72.288201</td>\n",
       "      <td>2.056565e-02</td>\n",
       "      <td>1.00000</td>\n",
       "      <td>0.825</td>\n",
       "      <td>33556481</td>\n",
       "    </tr>\n",
       "    <tr>\n",
       "      <th>VGG 3 Block</th>\n",
       "      <td>73.744514</td>\n",
       "      <td>1.194572e-03</td>\n",
       "      <td>1.00000</td>\n",
       "      <td>0.825</td>\n",
       "      <td>8759681</td>\n",
       "    </tr>\n",
       "    <tr>\n",
       "      <th>VGG 3 Block with Argumentation</th>\n",
       "      <td>75.150163</td>\n",
       "      <td>3.559158e-01</td>\n",
       "      <td>0.84375</td>\n",
       "      <td>0.750</td>\n",
       "      <td>8759681</td>\n",
       "    </tr>\n",
       "    <tr>\n",
       "      <th>VGG 16</th>\n",
       "      <td>55.661988</td>\n",
       "      <td>6.138818e-08</td>\n",
       "      <td>1.00000</td>\n",
       "      <td>0.850</td>\n",
       "      <td>15763521</td>\n",
       "    </tr>\n",
       "    <tr>\n",
       "      <th>MLP18</th>\n",
       "      <td>29.990009</td>\n",
       "      <td>1.929377e-01</td>\n",
       "      <td>0.85625</td>\n",
       "      <td>0.675</td>\n",
       "      <td>17832193</td>\n",
       "    </tr>\n",
       "    <tr>\n",
       "      <th>MLP135</th>\n",
       "      <td>202.682255</td>\n",
       "      <td>3.953538e+01</td>\n",
       "      <td>0.98125</td>\n",
       "      <td>0.700</td>\n",
       "      <td>135390001</td>\n",
       "    </tr>\n",
       "  </tbody>\n",
       "</table>\n",
       "</div>"
      ],
      "text/plain": [
       "                                Training Time    Train Loss  Train Acc   \n",
       "Model Name                                                               \n",
       "VGG 1 Block                         72.288201  2.056565e-02    1.00000  \\\n",
       "VGG 3 Block                         73.744514  1.194572e-03    1.00000   \n",
       "VGG 3 Block with Argumentation      75.150163  3.559158e-01    0.84375   \n",
       "VGG 16                              55.661988  6.138818e-08    1.00000   \n",
       "MLP18                               29.990009  1.929377e-01    0.85625   \n",
       "MLP135                             202.682255  3.953538e+01    0.98125   \n",
       "\n",
       "                                Test Acc  Num Params  \n",
       "Model Name                                            \n",
       "VGG 1 Block                        0.825    33556481  \n",
       "VGG 3 Block                        0.825     8759681  \n",
       "VGG 3 Block with Argumentation     0.750     8759681  \n",
       "VGG 16                             0.850    15763521  \n",
       "MLP18                              0.675    17832193  \n",
       "MLP135                             0.700   135390001  "
      ]
     },
     "metadata": {},
     "output_type": "display_data"
    }
   ],
   "source": [
    "import pandas as pd\n",
    "df = pd.read_csv('results.csv', index_col=0)\n",
    "display(df)"
   ]
  },
  {
   "cell_type": "code",
   "execution_count": null,
   "id": "ab47503c-dbd9-47bd-976b-9d9d127f56d1",
   "metadata": {},
   "outputs": [],
   "source": []
  }
 ],
 "metadata": {
  "kernelspec": {
   "display_name": "Python 3 (ipykernel)",
   "language": "python",
   "name": "python3"
  },
  "language_info": {
   "codemirror_mode": {
    "name": "ipython",
    "version": 3
   },
   "file_extension": ".py",
   "mimetype": "text/x-python",
   "name": "python",
   "nbconvert_exporter": "python",
   "pygments_lexer": "ipython3",
   "version": "3.8.10"
  }
 },
 "nbformat": 4,
 "nbformat_minor": 5
}
